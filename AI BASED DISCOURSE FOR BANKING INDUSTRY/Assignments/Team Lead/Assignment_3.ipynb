{
  "nbformat": 4,
  "nbformat_minor": 0,
  "metadata": {
    "colab": {
      "provenance": [],
      "collapsed_sections": []
    },
    "kernelspec": {
      "name": "python3",
      "display_name": "Python 3"
    },
    "language_info": {
      "name": "python"
    }
  },
  "cells": [
    {
      "cell_type": "code",
      "execution_count": 1,
      "metadata": {
        "colab": {
          "base_uri": "https://localhost:8080/"
        },
        "id": "5ju9jwb_4h7p",
        "outputId": "8452b7d4-038d-498d-9426-cd08027e303b"
      },
      "outputs": [
        {
          "output_type": "stream",
          "name": "stdout",
          "text": [
            "\u001b[0m\u001b[01;34mdrive\u001b[0m/  \u001b[01;34msample_data\u001b[0m/\n"
          ]
        }
      ],
      "source": [
        "ls"
      ]
    },
    {
      "cell_type": "code",
      "source": [
        "cd /content/drive/MyDrive/Flowers/flowers"
      ],
      "metadata": {
        "colab": {
          "base_uri": "https://localhost:8080/"
        },
        "id": "Ho9JBy286Wsy",
        "outputId": "27bef402-bf24-456a-fdc1-715268f62a35"
      },
      "execution_count": 2,
      "outputs": [
        {
          "output_type": "stream",
          "name": "stdout",
          "text": [
            "/content/drive/MyDrive/Flowers/flowers\n"
          ]
        }
      ]
    },
    {
      "cell_type": "code",
      "source": [
        "pwd"
      ],
      "metadata": {
        "id": "ymd-26bc9zOx",
        "colab": {
          "base_uri": "https://localhost:8080/",
          "height": 36
        },
        "outputId": "ae1e37b6-da1d-4318-fbca-8ab454eca7cd"
      },
      "execution_count": 3,
      "outputs": [
        {
          "output_type": "execute_result",
          "data": {
            "text/plain": [
              "'/content/drive/MyDrive/Flowers/flowers'"
            ],
            "application/vnd.google.colaboratory.intrinsic+json": {
              "type": "string"
            }
          },
          "metadata": {},
          "execution_count": 3
        }
      ]
    },
    {
      "cell_type": "markdown",
      "source": [
        "Image Augmentation"
      ],
      "metadata": {
        "id": "AMg7EfB9K2Fw"
      }
    },
    {
      "cell_type": "code",
      "source": [
        "from tensorflow.keras.preprocessing.image import ImageDataGenerator"
      ],
      "metadata": {
        "id": "n4YCczZDK5L2"
      },
      "execution_count": 4,
      "outputs": []
    },
    {
      "cell_type": "code",
      "source": [
        "train_datagen = ImageDataGenerator( rescale= 1./225,zoom_range= 0.2,horizontal_flip=True,vertical_flip=True)"
      ],
      "metadata": {
        "id": "NKyCWvDTK_Bl"
      },
      "execution_count": 5,
      "outputs": []
    },
    {
      "cell_type": "code",
      "source": [
        "test_datagen = ImageDataGenerator( rescale= 1./225)"
      ],
      "metadata": {
        "id": "RTN8d80m_uHd"
      },
      "execution_count": 6,
      "outputs": []
    },
    {
      "cell_type": "code",
      "source": [
        "x_train = train_datagen.flow_from_directory(r\"/content/drive/MyDrive/Flowers/flowers/Training\",target_size=(64,64),\n",
        "                                                   class_mode = \"categorical\",batch_size=24 )"
      ],
      "metadata": {
        "id": "f_zdaYlaLZ92",
        "colab": {
          "base_uri": "https://localhost:8080/"
        },
        "outputId": "5406c769-6912-4bd1-a646-c5534785b9bf"
      },
      "execution_count": 7,
      "outputs": [
        {
          "output_type": "stream",
          "name": "stdout",
          "text": [
            "Found 386 images belonging to 4 classes.\n"
          ]
        }
      ]
    },
    {
      "cell_type": "code",
      "source": [
        "x_test = test_datagen.flow_from_directory(r\"/content/drive/MyDrive/Flowers/flowers/Testing\",target_size=(64,64),\n",
        "                                                   class_mode = \"categorical\",batch_size=24 )"
      ],
      "metadata": {
        "colab": {
          "base_uri": "https://localhost:8080/"
        },
        "id": "bVj2CjaB_duw",
        "outputId": "2e0080d0-5836-47d6-d7c9-f8173e58bf39"
      },
      "execution_count": 8,
      "outputs": [
        {
          "output_type": "stream",
          "name": "stdout",
          "text": [
            "Found 340 images belonging to 4 classes.\n"
          ]
        }
      ]
    },
    {
      "cell_type": "code",
      "source": [
        "x_train.class_indices"
      ],
      "metadata": {
        "id": "agOTHoSTLfE2",
        "colab": {
          "base_uri": "https://localhost:8080/"
        },
        "outputId": "a0cd0042-30ca-48cd-e29e-c4eb74d106b3"
      },
      "execution_count": 9,
      "outputs": [
        {
          "output_type": "execute_result",
          "data": {
            "text/plain": [
              "{'daisy': 0, 'rose': 1, 'sunflower': 2, 'tulip': 3}"
            ]
          },
          "metadata": {},
          "execution_count": 9
        }
      ]
    },
    {
      "cell_type": "markdown",
      "source": [
        "Create Model"
      ],
      "metadata": {
        "id": "fxuRf3SiLkPj"
      }
    },
    {
      "cell_type": "code",
      "source": [
        "from tensorflow.keras.models import Sequential\n",
        "from tensorflow.keras.layers import Dense,Convolution2D,MaxPooling2D,Flatten"
      ],
      "metadata": {
        "id": "AaF-8fzvLmAl"
      },
      "execution_count": 10,
      "outputs": []
    },
    {
      "cell_type": "code",
      "source": [
        "#initialize\n",
        "model = Sequential()"
      ],
      "metadata": {
        "id": "arEvWEy3L9hR"
      },
      "execution_count": 11,
      "outputs": []
    },
    {
      "cell_type": "markdown",
      "source": [
        "Add Layers"
      ],
      "metadata": {
        "id": "iEEA_CdAL-oJ"
      }
    },
    {
      "cell_type": "code",
      "source": [
        "model.add(Convolution2D(32,(3,3),activation = \"relu\",strides=(1,1),input_shape=(64,64,3)))"
      ],
      "metadata": {
        "id": "8CZjvTv6MErL"
      },
      "execution_count": 12,
      "outputs": []
    },
    {
      "cell_type": "code",
      "source": [
        "model.add( MaxPooling2D(pool_size=(2,2)))"
      ],
      "metadata": {
        "id": "HlAigF5RMPMw"
      },
      "execution_count": 13,
      "outputs": []
    },
    {
      "cell_type": "code",
      "source": [
        "model.add(Flatten())"
      ],
      "metadata": {
        "id": "ro_1-O4xMRKa"
      },
      "execution_count": 14,
      "outputs": []
    },
    {
      "cell_type": "code",
      "source": [
        "model.summary()"
      ],
      "metadata": {
        "id": "Q6fPnwOBMTHY",
        "colab": {
          "base_uri": "https://localhost:8080/"
        },
        "outputId": "a2b913c7-1db1-4d8b-8787-7a16f51e5bf3"
      },
      "execution_count": 15,
      "outputs": [
        {
          "output_type": "stream",
          "name": "stdout",
          "text": [
            "Model: \"sequential\"\n",
            "_________________________________________________________________\n",
            " Layer (type)                Output Shape              Param #   \n",
            "=================================================================\n",
            " conv2d (Conv2D)             (None, 62, 62, 32)        896       \n",
            "                                                                 \n",
            " max_pooling2d (MaxPooling2D  (None, 31, 31, 32)       0         \n",
            " )                                                               \n",
            "                                                                 \n",
            " flatten (Flatten)           (None, 30752)             0         \n",
            "                                                                 \n",
            "=================================================================\n",
            "Total params: 896\n",
            "Trainable params: 896\n",
            "Non-trainable params: 0\n",
            "_________________________________________________________________\n"
          ]
        }
      ]
    },
    {
      "cell_type": "code",
      "source": [
        "model.add(Dense(300,activation=\"relu\"))\n",
        "model.add(Dense(300,activation=\"relu\"))"
      ],
      "metadata": {
        "id": "93bmNvUvMWVg"
      },
      "execution_count": 16,
      "outputs": []
    },
    {
      "cell_type": "code",
      "source": [
        "model.add(Dense(4,activation=\"softmax\"))"
      ],
      "metadata": {
        "id": "InyxT2BJMZEq"
      },
      "execution_count": 17,
      "outputs": []
    },
    {
      "cell_type": "markdown",
      "source": [
        "Compile the model"
      ],
      "metadata": {
        "id": "YnqZhE5KMfQk"
      }
    },
    {
      "cell_type": "code",
      "source": [
        "model.compile(loss = \"categorical_crossentropy\",optimizer= \"adam\",metrics =['accuracy'])"
      ],
      "metadata": {
        "id": "6AoLfw6rMhYU"
      },
      "execution_count": 18,
      "outputs": []
    },
    {
      "cell_type": "code",
      "source": [
        "len(x_train)"
      ],
      "metadata": {
        "id": "5-4OWhpBMlhr",
        "colab": {
          "base_uri": "https://localhost:8080/"
        },
        "outputId": "b8f78802-239d-43be-e6fa-26d0d7e6470e"
      },
      "execution_count": 19,
      "outputs": [
        {
          "output_type": "execute_result",
          "data": {
            "text/plain": [
              "17"
            ]
          },
          "metadata": {},
          "execution_count": 19
        }
      ]
    },
    {
      "cell_type": "markdown",
      "source": [
        "Fit the model"
      ],
      "metadata": {
        "id": "5fCTF-hHMnLM"
      }
    },
    {
      "cell_type": "code",
      "source": [
        "model.fit(x_train, epochs =10, steps_per_epoch= len(x_train)//10)"
      ],
      "metadata": {
        "id": "XhrpPNn3Mo6-",
        "colab": {
          "base_uri": "https://localhost:8080/"
        },
        "outputId": "45f1c964-ee94-4bc9-9243-285d50227683"
      },
      "execution_count": 46,
      "outputs": [
        {
          "output_type": "stream",
          "name": "stdout",
          "text": [
            "Epoch 1/10\n",
            "1/1 [==============================] - 1s 630ms/step - loss: 0.6471 - accuracy: 0.8333\n",
            "Epoch 2/10\n",
            "1/1 [==============================] - 0s 394ms/step - loss: 0.9754 - accuracy: 0.6250\n",
            "Epoch 3/10\n",
            "1/1 [==============================] - 0s 335ms/step - loss: 1.3873 - accuracy: 0.5417\n",
            "Epoch 4/10\n",
            "1/1 [==============================] - 0s 353ms/step - loss: 0.7826 - accuracy: 0.6250\n",
            "Epoch 5/10\n",
            "1/1 [==============================] - 0s 318ms/step - loss: 0.9259 - accuracy: 0.5833\n",
            "Epoch 6/10\n",
            "1/1 [==============================] - 0s 342ms/step - loss: 0.8233 - accuracy: 0.6250\n",
            "Epoch 7/10\n",
            "1/1 [==============================] - 0s 319ms/step - loss: 0.8247 - accuracy: 0.5833\n",
            "Epoch 8/10\n",
            "1/1 [==============================] - 0s 343ms/step - loss: 0.8669 - accuracy: 0.5417\n",
            "Epoch 9/10\n",
            "1/1 [==============================] - 0s 323ms/step - loss: 0.7797 - accuracy: 0.5417\n",
            "Epoch 10/10\n",
            "1/1 [==============================] - 0s 323ms/step - loss: 0.8639 - accuracy: 0.7500\n"
          ]
        },
        {
          "output_type": "execute_result",
          "data": {
            "text/plain": [
              "<keras.callbacks.History at 0x7f1356061850>"
            ]
          },
          "metadata": {},
          "execution_count": 46
        }
      ]
    },
    {
      "cell_type": "markdown",
      "source": [
        "Save the model"
      ],
      "metadata": {
        "id": "vF-GLRHtMtXD"
      }
    },
    {
      "cell_type": "code",
      "source": [
        "model.save('flower.h5')"
      ],
      "metadata": {
        "id": "6p5IzYtLMw-z"
      },
      "execution_count": 47,
      "outputs": []
    },
    {
      "cell_type": "markdown",
      "source": [
        "Test the model"
      ],
      "metadata": {
        "id": "20CohJVkM3vM"
      }
    },
    {
      "cell_type": "code",
      "source": [
        "import numpy as np\n",
        "\n",
        "from tensorflow.keras.models import load_model\n",
        "from tensorflow.keras.preprocessing import image"
      ],
      "metadata": {
        "id": "HchE24G9WFiv"
      },
      "execution_count": 48,
      "outputs": []
    },
    {
      "cell_type": "code",
      "source": [
        "model=load_model('flower.h5')"
      ],
      "metadata": {
        "id": "zLh3ueymM_NF"
      },
      "execution_count": 49,
      "outputs": []
    },
    {
      "cell_type": "code",
      "source": [
        "img = image.load_img(r\"/content/drive/MyDrive/Flowers/flowers/Training/rose/5693486585_cf64d87519_n.jpg\")"
      ],
      "metadata": {
        "id": "JwDj5fyDNuHz"
      },
      "execution_count": 50,
      "outputs": []
    },
    {
      "cell_type": "code",
      "source": [
        "img"
      ],
      "metadata": {
        "id": "OhJdrM1GNvFZ",
        "colab": {
          "base_uri": "https://localhost:8080/",
          "height": 177
        },
        "outputId": "44d5ba51-58d3-4f1c-cc7b-0e58769e2ae5"
      },
      "execution_count": 51,
      "outputs": [
        {
          "output_type": "execute_result",
          "data": {
            "text/plain": [
              "<PIL.JpegImagePlugin.JpegImageFile image mode=RGB size=240x160 at 0x7F135603D810>"
            ],
            "image/png": "[encoded data removed]"
          },
          "metadata": {},
          "execution_count": 51
        }
      ]
    },
    {
      "cell_type": "code",
      "source": [
        "img = image.load_img(r\"/content/drive/MyDrive/Flowers/flowers/Training/rose/5693486585_cf64d87519_n.jpg\",target_size=(64,64))"
      ],
      "metadata": {
        "id": "PiWo4JW7Ny7O"
      },
      "execution_count": 52,
      "outputs": []
    },
    {
      "cell_type": "code",
      "source": [
        "img"
      ],
      "metadata": {
        "id": "Qq18XtzVN3Zu",
        "colab": {
          "base_uri": "https://localhost:8080/",
          "height": 81
        },
        "outputId": "252890ed-bfe6-4ccc-aea3-56544de538a1"
      },
      "execution_count": 53,
      "outputs": [
        {
          "output_type": "execute_result",
          "data": {
            "text/plain": [
              "<PIL.Image.Image image mode=RGB size=64x64 at 0x7F1355F9A6D0>"
            ],
            "image/png": "[encoded data removed]"
          },
          "metadata": {},
          "execution_count": 53
        }
      ]
    },
    {
      "cell_type": "code",
      "source": [
        "x =image.img_to_array(img)"
      ],
      "metadata": {
        "id": "i4grwvcxN6GR"
      },
      "execution_count": 54,
      "outputs": []
    },
    {
      "cell_type": "code",
      "source": [
        "x"
      ],
      "metadata": {
        "id": "lT64CLC4N8Ag",
        "colab": {
          "base_uri": "https://localhost:8080/"
        },
        "outputId": "e3da6ee9-f90d-49e1-b0dd-d2173c3aa052"
      },
      "execution_count": 55,
      "outputs": [
        {
          "output_type": "execute_result",
          "data": {
            "text/plain": [
              "array([[[ 88.,  97.,  76.],\n",
              "        [107., 114.,  98.],\n",
              "        [169.,  52.,  68.],\n",
              "        ...,\n",
              "        [151., 155., 158.],\n",
              "        [158., 163., 167.],\n",
              "        [165., 168., 173.]],\n",
              "\n",
              "       [[ 96., 100.,  83.],\n",
              "        [106., 124., 112.],\n",
              "        [162.,  56.,  70.],\n",
              "        ...,\n",
              "        [154., 155., 159.],\n",
              "        [158., 163., 167.],\n",
              "        [166., 169., 174.]],\n",
              "\n",
              "       [[102., 108.,  94.],\n",
              "        [131., 126., 122.],\n",
              "        [166.,  88., 102.],\n",
              "        ...,\n",
              "        [156., 155., 160.],\n",
              "        [159., 164., 168.],\n",
              "        [167., 170., 175.]],\n",
              "\n",
              "       ...,\n",
              "\n",
              "       [[196.,  70.,  94.],\n",
              "        [190., 125., 123.],\n",
              "        [ 86.,  86.,  32.],\n",
              "        ...,\n",
              "        [254., 101., 129.],\n",
              "        [247., 105., 129.],\n",
              "        [246.,  92., 120.]],\n",
              "\n",
              "       [[191.,  86., 101.],\n",
              "        [103., 110.,  59.],\n",
              "        [ 77.,  73.,  25.],\n",
              "        ...,\n",
              "        [226.,  80., 103.],\n",
              "        [225.,  76.,  98.],\n",
              "        [198.,  77.,  92.]],\n",
              "\n",
              "       [[174., 140., 128.],\n",
              "        [ 84.,  77.,  23.],\n",
              "        [ 76.,  74.,  26.],\n",
              "        ...,\n",
              "        [154.,  71.,  79.],\n",
              "        [146.,  75.,  83.],\n",
              "        [106.,  84.,  86.]]], dtype=float32)"
            ]
          },
          "metadata": {},
          "execution_count": 55
        }
      ]
    },
    {
      "cell_type": "code",
      "source": [
        "x=np.expand_dims(x,axis=0)"
      ],
      "metadata": {
        "id": "Gl_OkRRlN_eD"
      },
      "execution_count": 56,
      "outputs": []
    },
    {
      "cell_type": "code",
      "source": [
        "x"
      ],
      "metadata": {
        "id": "xsRM7MWWOAyn",
        "colab": {
          "base_uri": "https://localhost:8080/"
        },
        "outputId": "1aaeb568-3593-49b2-dacc-31d215ec73ee"
      },
      "execution_count": 57,
      "outputs": [
        {
          "output_type": "execute_result",
          "data": {
            "text/plain": [
              "array([[[[ 88.,  97.,  76.],\n",
              "         [107., 114.,  98.],\n",
              "         [169.,  52.,  68.],\n",
              "         ...,\n",
              "         [151., 155., 158.],\n",
              "         [158., 163., 167.],\n",
              "         [165., 168., 173.]],\n",
              "\n",
              "        [[ 96., 100.,  83.],\n",
              "         [106., 124., 112.],\n",
              "         [162.,  56.,  70.],\n",
              "         ...,\n",
              "         [154., 155., 159.],\n",
              "         [158., 163., 167.],\n",
              "         [166., 169., 174.]],\n",
              "\n",
              "        [[102., 108.,  94.],\n",
              "         [131., 126., 122.],\n",
              "         [166.,  88., 102.],\n",
              "         ...,\n",
              "         [156., 155., 160.],\n",
              "         [159., 164., 168.],\n",
              "         [167., 170., 175.]],\n",
              "\n",
              "        ...,\n",
              "\n",
              "        [[196.,  70.,  94.],\n",
              "         [190., 125., 123.],\n",
              "         [ 86.,  86.,  32.],\n",
              "         ...,\n",
              "         [254., 101., 129.],\n",
              "         [247., 105., 129.],\n",
              "         [246.,  92., 120.]],\n",
              "\n",
              "        [[191.,  86., 101.],\n",
              "         [103., 110.,  59.],\n",
              "         [ 77.,  73.,  25.],\n",
              "         ...,\n",
              "         [226.,  80., 103.],\n",
              "         [225.,  76.,  98.],\n",
              "         [198.,  77.,  92.]],\n",
              "\n",
              "        [[174., 140., 128.],\n",
              "         [ 84.,  77.,  23.],\n",
              "         [ 76.,  74.,  26.],\n",
              "         ...,\n",
              "         [154.,  71.,  79.],\n",
              "         [146.,  75.,  83.],\n",
              "         [106.,  84.,  86.]]]], dtype=float32)"
            ]
          },
          "metadata": {},
          "execution_count": 57
        }
      ]
    },
    {
      "cell_type": "code",
      "source": [
        "pred=model.predict(x)"
      ],
      "metadata": {
        "id": "zLt3eghvOBsu"
      },
      "execution_count": 59,
      "outputs": []
    },
    {
      "cell_type": "code",
      "source": [
        "pred"
      ],
      "metadata": {
        "id": "c7I84v_cXc65",
        "colab": {
          "base_uri": "https://localhost:8080/"
        },
        "outputId": "6b2ffdb7-b6f7-4cf9-d1f9-4b8b8f1acdcb"
      },
      "execution_count": 60,
      "outputs": [
        {
          "output_type": "execute_result",
          "data": {
            "text/plain": [
              "array([[0., 1., 0., 0.]], dtype=float32)"
            ]
          },
          "metadata": {},
          "execution_count": 60
        }
      ]
    },
    {
      "cell_type": "code",
      "source": [
        "x_test.class_indices"
      ],
      "metadata": {
        "id": "QOf2gCyuXd9m",
        "colab": {
          "base_uri": "https://localhost:8080/"
        },
        "outputId": "dd814430-6d80-4e86-b865-b2b2a2b887e9"
      },
      "execution_count": 61,
      "outputs": [
        {
          "output_type": "execute_result",
          "data": {
            "text/plain": [
              "{'daisy': 0, 'rose': 1, 'sunflower': 2, 'tulip': 3}"
            ]
          },
          "metadata": {},
          "execution_count": 61
        }
      ]
    },
    {
      "cell_type": "code",
      "source": [
        "index = ['daisy','rose','sunflowers','tulip']"
      ],
      "metadata": {
        "id": "IjGXH96bizkW"
      },
      "execution_count": 62,
      "outputs": []
    },
    {
      "cell_type": "code",
      "source": [
        "index[np.argmax(pred)]"
      ],
      "metadata": {
        "id": "0BwMcZIbizdl",
        "colab": {
          "base_uri": "https://localhost:8080/",
          "height": 36
        },
        "outputId": "afdca173-5483-478c-8955-23c234c7cec7"
      },
      "execution_count": 63,
      "outputs": [
        {
          "output_type": "execute_result",
          "data": {
            "text/plain": [
              "'rose'"
            ],
            "application/vnd.google.colaboratory.intrinsic+json": {
              "type": "string"
            }
          },
          "metadata": {},
          "execution_count": 63
        }
      ]
    }
  ]
}